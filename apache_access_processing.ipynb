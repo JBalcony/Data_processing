{
 "cells": [
  {
   "cell_type": "markdown",
   "metadata": {},
   "source": [
    "####  Number of GET queries from localhost (127.0.0.1) between 10:40 and 10:55 based on the file 'apache_access.log'"
   ]
  },
  {
   "cell_type": "code",
   "execution_count": 121,
   "metadata": {},
   "outputs": [
    {
     "name": "stdout",
     "output_type": "stream",
     "text": [
      "42.4 µs ± 636 ns per loop (mean ± std. dev. of 7 runs, 10000 loops each)\n"
     ]
    }
   ],
   "source": [
    "# Solution No. 1\n",
    "\n",
    "def get_counter(file=\"apache_access.log\"):\n",
    "    \n",
    "    # Opening file and saving contents in data list.\n",
    "    with open(file,\"r\") as f:\n",
    "        data = f.readlines()\n",
    "        f.close()\n",
    "        \n",
    "    data2 = [re.search(r\":10:\\d{2}:\\d{2}\",x).group()[1:6] for x in data if re.findall(r\"127.0.0.1 \",x)]\n",
    "    # re.search(r\":10:\\d{2}:\\d{2}\",x) - create elements that match :10:digit*2:digit*2\n",
    "    # .group() - matches from search - re.findall returns list, search.group() returns str\n",
    "    # [1:6] - slicing the \":10:54:22\" to \"10:54\"\n",
    "    # re.findall(r\"127.0.0.1 \",x) - creating element only if matches the exact pattern,\n",
    "    # space in end is for cases when IP is 127.0.0.11 - additional digit after last \"1\"\n",
    "    \n",
    "    return len([x for x in data2 if int(x[0:2]) == 10 and int(x[3:]) >= 40 and int(x[3:]) <= 55])\n",
    "    # slicing the data2 list elements ('10:54') and checking if they are withing searched range\n",
    "    \n",
    "%timeit get_counter()"
   ]
  },
  {
   "cell_type": "code",
   "execution_count": 122,
   "metadata": {},
   "outputs": [
    {
     "name": "stdout",
     "output_type": "stream",
     "text": [
      "140 µs ± 715 ns per loop (mean ± std. dev. of 7 runs, 10000 loops each)\n"
     ]
    }
   ],
   "source": [
    "# Solution No. 2\n",
    "\n",
    "import datetime\n",
    "import pytz\n",
    "\n",
    "def get_counter2(file=\"apache_access.log\"):\n",
    "    utc=pytz.UTC\n",
    "\n",
    "    counter = 0\n",
    "    # 10/Apr/2007\n",
    "    start_date = datetime.datetime(2007, 4, 10, hour=7, minute=40).replace(tzinfo=utc)\n",
    "    end_date = datetime.datetime(2007, 4, 10, hour=7, minute=55).replace(tzinfo=utc)\n",
    "\n",
    "    with open(file, 'r') as f:\n",
    "        for line in f.readlines():\n",
    "            if line.startswith(\"127.0.0.1 \"):\n",
    "                line_2 = line.split(' - - [')[1].split('] \"')\n",
    "                date = line_2[0]\n",
    "                date = datetime.datetime.strptime(date,'%d/%b/%Y:%H:%M:%S %z')\n",
    "                request = line_2[1]\n",
    "                if (date>start_date) & (date<end_date) & (request.startswith('GET')):\n",
    "                    counter +=1\n",
    "    return counter\n",
    "\n",
    "%timeit get_counter2()\n",
    "            "
   ]
  }
 ],
 "metadata": {
  "kernelspec": {
   "display_name": "Python 3",
   "language": "python",
   "name": "python3"
  },
  "language_info": {
   "codemirror_mode": {
    "name": "ipython",
    "version": 3
   },
   "file_extension": ".py",
   "mimetype": "text/x-python",
   "name": "python",
   "nbconvert_exporter": "python",
   "pygments_lexer": "ipython3",
   "version": "3.7.3"
  }
 },
 "nbformat": 4,
 "nbformat_minor": 2
}
